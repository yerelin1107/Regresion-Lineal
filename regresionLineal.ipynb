{
 "cells": [
  {
   "cell_type": "markdown",
   "id": "a9651ba1-da40-447b-a818-7619df18d7ab",
   "metadata": {},
   "source": [
    "## 1. Realizar un análisis exploratorio de los datos para identificar\n",
    "## relaciones entre variables, valores atípicos, tendencias, etc. "
   ]
  },
  {
   "cell_type": "code",
   "execution_count": 52,
   "id": "4473b4c0-a825-455f-99ab-6efee0caeea2",
   "metadata": {},
   "outputs": [],
   "source": [
    "import pandas as pd\n",
    "import numpy as np\n",
    "from sklearn.model_selection import train_test_split\n",
    "from sklearn.linear_model import LinearRegression\n",
    "from sklearn.metrics import mean_squared_error, r2_score\n",
    "from sklearn.impute import SimpleImputer\n",
    "from sklearn.preprocessing import StandardScaler\n",
    "from sklearn.feature_selection import SelectKBest\n",
    "from sklearn.feature_selection import chi2\n",
    "from sklearn.model_selection import train_test_split\n",
    "from sklearn.linear_model import LinearRegression\n",
    "from sklearn.metrics import mean_squared_error\n",
    "from sklearn.metrics import accuracy_score, precision_score, recall_score, f1_score"
   ]
  },
  {
   "cell_type": "code",
   "execution_count": 8,
   "id": "55fd1ece-9271-43d1-9c5b-6c120daa0a86",
   "metadata": {},
   "outputs": [],
   "source": [
    "# Ubicacion de nuestro dataset\n",
    "file_path = r'C:\\Users\\Daniel David\\Documents\\Python\\Titanic-Dataset.csv'"
   ]
  },
  {
   "cell_type": "code",
   "execution_count": 9,
   "id": "efbd83c4-a2bf-4e35-b2e8-c955c6e95910",
   "metadata": {},
   "outputs": [],
   "source": [
    "# Cargamos el dataset en un DataFrame de pandas\n",
    "df = pd.read_csv(file_path)"
   ]
  },
  {
   "cell_type": "code",
   "execution_count": 10,
   "id": "00953715-092c-4443-bab4-f9b54e40d5dd",
   "metadata": {},
   "outputs": [
    {
     "name": "stdout",
     "output_type": "stream",
     "text": [
      "                                         PassengerId  Survived  Pclass  Name  \\\n",
      "0  1,0,3,\"Braund, Mr. Owen Harris\",male,22,1,0,A/...       NaN     NaN   NaN   \n",
      "1  2,1,1,\"Cumings, Mrs. John Bradley (Florence Br...       NaN     NaN   NaN   \n",
      "2  3,1,3,\"Heikkinen, Miss. Laina\",female,26,0,0,S...       NaN     NaN   NaN   \n",
      "3  4,1,1,\"Futrelle, Mrs. Jacques Heath (Lily May ...       NaN     NaN   NaN   \n",
      "4  5,0,3,\"Allen, Mr. William Henry\",male,35,0,0,3...       NaN     NaN   NaN   \n",
      "\n",
      "   Sex  Age  SibSp  Parch  Ticket  Fare  Cabin  Embarked  \n",
      "0  NaN  NaN    NaN    NaN     NaN   NaN    NaN       NaN  \n",
      "1  NaN  NaN    NaN    NaN     NaN   NaN    NaN       NaN  \n",
      "2  NaN  NaN    NaN    NaN     NaN   NaN    NaN       NaN  \n",
      "3  NaN  NaN    NaN    NaN     NaN   NaN    NaN       NaN  \n",
      "4  NaN  NaN    NaN    NaN     NaN   NaN    NaN       NaN  \n"
     ]
    }
   ],
   "source": [
    "# Muestra las primeras filas del DataFrame para verificar que se cargó correctamente\n",
    "print(df.head())"
   ]
  },
  {
   "cell_type": "code",
   "execution_count": 11,
   "id": "b768df4f-172c-4368-a5f7-c6363a72497c",
   "metadata": {},
   "outputs": [
    {
     "name": "stdout",
     "output_type": "stream",
     "text": [
      "Información general sobre el dataset:\n",
      "<class 'pandas.core.frame.DataFrame'>\n",
      "RangeIndex: 891 entries, 0 to 890\n",
      "Data columns (total 12 columns):\n",
      " #   Column       Non-Null Count  Dtype  \n",
      "---  ------       --------------  -----  \n",
      " 0   PassengerId  891 non-null    object \n",
      " 1   Survived     0 non-null      float64\n",
      " 2   Pclass       0 non-null      float64\n",
      " 3   Name         0 non-null      float64\n",
      " 4   Sex          0 non-null      float64\n",
      " 5   Age          0 non-null      float64\n",
      " 6   SibSp        0 non-null      float64\n",
      " 7   Parch        0 non-null      float64\n",
      " 8   Ticket       0 non-null      float64\n",
      " 9   Fare         0 non-null      float64\n",
      " 10  Cabin        0 non-null      float64\n",
      " 11  Embarked     0 non-null      float64\n",
      "dtypes: float64(11), object(1)\n",
      "memory usage: 83.7+ KB\n",
      "None\n"
     ]
    }
   ],
   "source": [
    "# Información general sobre el dataset\n",
    "print(\"Información general sobre el dataset:\")\n",
    "print(df.info())"
   ]
  },
  {
   "cell_type": "code",
   "execution_count": 12,
   "id": "c6552c0d-b1ff-420d-bc0d-98f0e7ba8e26",
   "metadata": {},
   "outputs": [
    {
     "name": "stdout",
     "output_type": "stream",
     "text": [
      "\n",
      "Estadísticas descriptivas del dataset:\n",
      "       Survived  Pclass  Name  Sex  Age  SibSp  Parch  Ticket  Fare  Cabin  \\\n",
      "count       0.0     0.0   0.0  0.0  0.0    0.0    0.0     0.0   0.0    0.0   \n",
      "mean        NaN     NaN   NaN  NaN  NaN    NaN    NaN     NaN   NaN    NaN   \n",
      "std         NaN     NaN   NaN  NaN  NaN    NaN    NaN     NaN   NaN    NaN   \n",
      "min         NaN     NaN   NaN  NaN  NaN    NaN    NaN     NaN   NaN    NaN   \n",
      "25%         NaN     NaN   NaN  NaN  NaN    NaN    NaN     NaN   NaN    NaN   \n",
      "50%         NaN     NaN   NaN  NaN  NaN    NaN    NaN     NaN   NaN    NaN   \n",
      "75%         NaN     NaN   NaN  NaN  NaN    NaN    NaN     NaN   NaN    NaN   \n",
      "max         NaN     NaN   NaN  NaN  NaN    NaN    NaN     NaN   NaN    NaN   \n",
      "\n",
      "       Embarked  \n",
      "count       0.0  \n",
      "mean        NaN  \n",
      "std         NaN  \n",
      "min         NaN  \n",
      "25%         NaN  \n",
      "50%         NaN  \n",
      "75%         NaN  \n",
      "max         NaN  \n"
     ]
    }
   ],
   "source": [
    "# Estadísticas descriptivas del dataset\n",
    "print(\"\\nEstadísticas descriptivas del dataset:\")\n",
    "print(df.describe())"
   ]
  },
  {
   "cell_type": "code",
   "execution_count": 13,
   "id": "5f27ac75-6f70-45de-9c48-c2373455675b",
   "metadata": {},
   "outputs": [
    {
     "data": {
      "image/png": "[encoded data removed]",
      "text/plain": [
       "<Figure size 640x480 with 1 Axes>"
      ]
     },
     "metadata": {},
     "output_type": "display_data"
    }
   ],
   "source": [
    "# Visualización de relaciones entre variables (por ejemplo, edad y tarifa de boleto)\n",
    "sns.scatterplot(x='Age', y='Fare', data=df)\n",
    "plt.title('Relación entre Edad y Tarifa de Boleto')\n",
    "plt.xlabel('Edad')\n",
    "plt.ylabel('Tarifa de Boleto')\n",
    "plt.show()"
   ]
  },
  {
   "cell_type": "code",
   "execution_count": 14,
   "id": "5563b0c5-9819-4946-b313-f846ab2c9c6a",
   "metadata": {},
   "outputs": [
    {
     "name": "stderr",
     "output_type": "stream",
     "text": [
      "C:\\Users\\Daniel David\\anaconda3\\Lib\\site-packages\\seaborn\\_oldcore.py:1119: FutureWarning: use_inf_as_na option is deprecated and will be removed in a future version. Convert inf values to NaN before operating instead.\n",
      "  with pd.option_context('mode.use_inf_as_na', True):\n"
     ]
    },
    {
     "data": {
      "image/png": "[encoded data removed]",
      "text/plain": [
       "<Figure size 640x480 with 1 Axes>"
      ]
     },
     "metadata": {},
     "output_type": "display_data"
    }
   ],
   "source": [
    "# Visualización de distribución de edades\n",
    "sns.histplot(df['Age'], bins=20, kde=True)\n",
    "plt.title('Distribución de Edades')\n",
    "plt.xlabel('Edad')\n",
    "plt.ylabel('Frecuencia')\n",
    "plt.show()"
   ]
  },
  {
   "cell_type": "code",
   "execution_count": 15,
   "id": "a7d92348-a9c7-4cb0-a876-64cfa12c2b07",
   "metadata": {},
   "outputs": [
    {
     "name": "stderr",
     "output_type": "stream",
     "text": [
      "C:\\Users\\Daniel David\\anaconda3\\Lib\\site-packages\\seaborn\\_oldcore.py:1119: FutureWarning: use_inf_as_na option is deprecated and will be removed in a future version. Convert inf values to NaN before operating instead.\n",
      "  with pd.option_context('mode.use_inf_as_na', True):\n"
     ]
    },
    {
     "data": {
      "image/png": "[encoded data removed]",
      "text/plain": [
       "<Figure size 640x480 with 1 Axes>"
      ]
     },
     "metadata": {},
     "output_type": "display_data"
    }
   ],
   "source": [
    "# Visualización de la distribución de tarifas de boletos\n",
    "sns.histplot(df['Fare'], bins=20, kde=True)\n",
    "plt.title('Distribución de Tarifas de Boleto')\n",
    "plt.xlabel('Tarifa de Boleto')\n",
    "plt.ylabel('Frecuencia')\n",
    "plt.show()"
   ]
  },
  {
   "cell_type": "code",
   "execution_count": 16,
   "id": "b9ffd1d6-145c-46b4-94bc-51c5001a0983",
   "metadata": {},
   "outputs": [
    {
     "data": {
      "image/png": "[encoded data removed]",
      "text/plain": [
       "<Figure size 640x480 with 1 Axes>"
      ]
     },
     "metadata": {},
     "output_type": "display_data"
    }
   ],
   "source": [
    "# Identificación de valores atípicos en la tarifa de boletos utilizando un boxplot\n",
    "sns.boxplot(x=df['Fare'])\n",
    "plt.title('Diagrama de Caja de la Tarifa de Boleto')\n",
    "plt.xlabel('Tarifa de Boleto')\n",
    "plt.show()"
   ]
  },
  {
   "cell_type": "markdown",
   "id": "53d1f740-a37e-42be-9578-1c9c0f003991",
   "metadata": {},
   "source": [
    "## 2. Preprocesar los datos limpiándolos, tratando valores faltantes y\n",
    "## transformándolos según sea necesario"
   ]
  },
  {
   "cell_type": "code",
   "execution_count": 17,
   "id": "85c2dc0a-70c1-4795-844c-c806b62adb5b",
   "metadata": {},
   "outputs": [
    {
     "name": "stdout",
     "output_type": "stream",
     "text": [
      "Cantidad de registros con valores faltantes en Age: 891\n",
      "Cantidad de registros con valores faltantes en Fare: 891\n"
     ]
    }
   ],
   "source": [
    "# Revisión de datos faltantes\n",
    "print(\"Cantidad de registros con valores faltantes en Age:\", df['Age'].isnull().sum())\n",
    "print(\"Cantidad de registros con valores faltantes en Fare:\", df['Fare'].isnull().sum())"
   ]
  },
  {
   "cell_type": "code",
   "execution_count": 22,
   "id": "47e9323c-f9b7-4174-8d36-ace38ca38105",
   "metadata": {},
   "outputs": [],
   "source": [
    "# Lidiar con valores faltantes (en este caso, imputar la mediana para la edad y la tarifa)\n",
    "imputer = SimpleImputer(strategy='median')\n",
    "df['Age'] = imputer.fit_transform(df[['Age']])\n",
    "df['Fare'] = imputer.fit_transform(df[['Fare']])"
   ]
  },
  {
   "cell_type": "code",
   "execution_count": 23,
   "id": "b701a018-83f2-4016-960c-b0b3392d862e",
   "metadata": {},
   "outputs": [],
   "source": [
    "# Escalar características numéricas (por ejemplo, la edad y la tarifa de boleto)\n",
    "scaler = StandardScaler()\n",
    "df[['Age', 'Fare']] = scaler.fit_transform(df[['Age', 'Fare']])"
   ]
  },
  {
   "cell_type": "code",
   "execution_count": 24,
   "id": "f35f3018-fcd2-4fc2-b38c-455c155a0365",
   "metadata": {},
   "outputs": [
    {
     "name": "stdout",
     "output_type": "stream",
     "text": [
      "\n",
      "Valores faltantes después del preprocesamiento:\n",
      "Cantidad de registros con valores faltantes en Age: 0\n",
      "Cantidad de registros con valores faltantes en Fare: 0\n"
     ]
    }
   ],
   "source": [
    "# Verifica si se han tratado los valores faltantes y transformado las variables\n",
    "print(\"\\nValores faltantes después del preprocesamiento:\")\n",
    "print(\"Cantidad de registros con valores faltantes en Age:\", df['Age'].isnull().sum())\n",
    "print(\"Cantidad de registros con valores faltantes en Fare:\", df['Fare'].isnull().sum())"
   ]
  },
  {
   "cell_type": "code",
   "execution_count": 25,
   "id": "25c09a37-5872-4013-a9a7-50386353fd8b",
   "metadata": {},
   "outputs": [
    {
     "name": "stdout",
     "output_type": "stream",
     "text": [
      "\n",
      "DataFrame después del preprocesamiento:\n",
      "                                         PassengerId  Survived  Pclass  Name  \\\n",
      "0  1,0,3,\"Braund, Mr. Owen Harris\",male,22,1,0,A/...       NaN     NaN   NaN   \n",
      "1  2,1,1,\"Cumings, Mrs. John Bradley (Florence Br...       NaN     NaN   NaN   \n",
      "2  3,1,3,\"Heikkinen, Miss. Laina\",female,26,0,0,S...       NaN     NaN   NaN   \n",
      "3  4,1,1,\"Futrelle, Mrs. Jacques Heath (Lily May ...       NaN     NaN   NaN   \n",
      "4  5,0,3,\"Allen, Mr. William Henry\",male,35,0,0,3...       NaN     NaN   NaN   \n",
      "\n",
      "   Sex  Age  SibSp  Parch  Ticket  Fare  Cabin  Embarked  \n",
      "0  NaN  0.0    NaN    NaN     NaN   0.0    NaN       NaN  \n",
      "1  NaN  0.0    NaN    NaN     NaN   0.0    NaN       NaN  \n",
      "2  NaN  0.0    NaN    NaN     NaN   0.0    NaN       NaN  \n",
      "3  NaN  0.0    NaN    NaN     NaN   0.0    NaN       NaN  \n",
      "4  NaN  0.0    NaN    NaN     NaN   0.0    NaN       NaN  \n"
     ]
    }
   ],
   "source": [
    "# Muestra las primeras filas del DataFrame después del preprocesamiento\n",
    "print(\"\\nDataFrame después del preprocesamiento:\")\n",
    "print(df.head())"
   ]
  },
  {
   "cell_type": "markdown",
   "id": "dc0bb202-e779-4aeb-a99e-586f4079ae44",
   "metadata": {},
   "source": [
    "## 3. Seleccionar las características más relevantes para entrenar el\n",
    "## modelo utilizando selección de características."
   ]
  },
  {
   "cell_type": "code",
   "execution_count": 27,
   "id": "7a0e1c23-2ec4-4023-a32c-809177fb3a31",
   "metadata": {},
   "outputs": [],
   "source": [
    "# Seleccionar las características y la variable objetivo\n",
    "X = df.drop('Survived', axis=1)  # Características\n",
    "y = df['Survived']  # Variable objetivo"
   ]
  },
  {
   "cell_type": "code",
   "execution_count": 29,
   "id": "1dc0c72d-81c1-4c49-99c7-807d82839a4c",
   "metadata": {},
   "outputs": [],
   "source": [
    "# Convertir características categóricas en variables dummy\n",
    "df = pd.get_dummies(df)"
   ]
  },
  {
   "cell_type": "code",
   "execution_count": 30,
   "id": "e03c23c1-4022-4d7a-b9e7-b59a7bb12680",
   "metadata": {},
   "outputs": [],
   "source": [
    "# Seleccionar las características y la variable objetivo\n",
    "X = df.drop('Survived', axis=1)  # Características\n",
    "y = df['Survived']  # Variable objetivo"
   ]
  },
  {
   "cell_type": "code",
   "execution_count": 32,
   "id": "9d479d76-53f8-42ae-96ac-193e740eedc5",
   "metadata": {},
   "outputs": [],
   "source": [
    "# Calcular la correlación de Pearson entre las características y la variable objetivo\n",
    "correlation = X.corrwith(y)"
   ]
  },
  {
   "cell_type": "code",
   "execution_count": 33,
   "id": "fffb45f4-79bd-4c99-b5bc-e588dbd6d2c3",
   "metadata": {},
   "outputs": [],
   "source": [
    "# Ordenar las características por su correlación con la variable objetivo\n",
    "correlation = correlation.abs().sort_values(ascending=False)"
   ]
  },
  {
   "cell_type": "code",
   "execution_count": 36,
   "id": "dd231261-d80b-4af5-afb7-07a4937d93d6",
   "metadata": {},
   "outputs": [
    {
     "name": "stdout",
     "output_type": "stream",
     "text": [
      "Características seleccionadas:\n",
      "Pclass   NaN\n",
      "Name     NaN\n",
      "Sex      NaN\n",
      "Age      NaN\n",
      "SibSp    NaN\n",
      "dtype: float64\n"
     ]
    }
   ],
   "source": [
    "# Seleccionar las 5 características más correlacionadas\n",
    "selected_features = correlation.head(5)\n",
    "\n",
    "print(\"Características seleccionadas:\")\n",
    "print(selected_features)"
   ]
  },
  {
   "cell_type": "markdown",
   "id": "2d5f4b9f-4885-4ccd-ac76-817e94790f78",
   "metadata": {},
   "source": [
    "## 4. Dividir el dataset en Train y Test para evaluar correctamente el\n",
    "## modelo."
   ]
  },
  {
   "cell_type": "code",
   "execution_count": 38,
   "id": "68554ddf-fe37-492c-befa-8935b3356baf",
   "metadata": {},
   "outputs": [],
   "source": [
    "# Dividir el conjunto de datos en características (X) y variable objetivo (y)\n",
    "X = df.drop('Survived', axis=1)  # Características\n",
    "y = df['Survived']  # Variable objetivo"
   ]
  },
  {
   "cell_type": "code",
   "execution_count": 39,
   "id": "f2d61c27-a265-4590-9a4e-007f213fde3a",
   "metadata": {},
   "outputs": [],
   "source": [
    "# Dividir el conjunto de datos en conjuntos de entrenamiento y prueba\n",
    "X_train, X_test, y_train, y_test = train_test_split(X, y, test_size=0.2, random_state=42)"
   ]
  },
  {
   "cell_type": "code",
   "execution_count": 40,
   "id": "1d37bcdc-1d1a-4018-8b44-68bbd375f68c",
   "metadata": {},
   "outputs": [
    {
     "name": "stdout",
     "output_type": "stream",
     "text": [
      "Forma de X_train: (712, 901)\n",
      "Forma de X_test: (179, 901)\n",
      "Forma de y_train: (712,)\n",
      "Forma de y_test: (179,)\n"
     ]
    }
   ],
   "source": [
    "# Imprimir las formas de los conjuntos de entrenamiento y prueba\n",
    "print(\"Forma de X_train:\", X_train.shape)\n",
    "print(\"Forma de X_test:\", X_test.shape)\n",
    "print(\"Forma de y_train:\", y_train.shape)\n",
    "print(\"Forma de y_test:\", y_test.shape)"
   ]
  },
  {
   "cell_type": "markdown",
   "id": "08cd8529-f940-48bf-ae1c-d58c553920d5",
   "metadata": {},
   "source": [
    "## 5. Entrenar el modelo configurando los diferentes\n",
    "## hiperparámetros."
   ]
  },
  {
   "cell_type": "markdown",
   "id": "c64db583-ee0a-4ba8-b65c-6a5205190c72",
   "metadata": {},
   "source": [
    "## 6. Evaluar el desempeño del modelo en el conjunto de Test con\n",
    "## métricas como precisión, recall, F1-score, etc."
   ]
  },
  {
   "cell_type": "markdown",
   "id": "2a370898-3f1c-49cf-8bd2-16e1ebdc96c6",
   "metadata": {},
   "source": [
    "## 7. Realizar las diferentes gráficas que permitan visualizar los\n",
    "## resultados del modelo."
   ]
  },
  {
   "cell_type": "markdown",
   "id": "646baa3a-d97c-459e-905b-1799b31981a1",
   "metadata": {},
   "source": [
    "## 8. Interpretar, analizar y documentar los resultados obtenidos"
   ]
  },
  {
   "cell_type": "markdown",
   "id": "038e2a07-a407-4c32-881d-edcffad026c4",
   "metadata": {},
   "source": [
    "Estimado tutor,\n",
    "\n",
    "Quisiera compartir con usted algunos de los desafíos que enfrenté mientras trabajaba en el proyecto asignado. A pesar de mi dedicación y esfuerzo, me he encontrado con ciertos obstáculos que han limitado los resultados obtenidos hasta el momento.\n",
    "\n",
    "Uno de los principales problemas que encontré fue la presencia de datos faltantes en el conjunto de datos, lo que resultó en errores recurrentes durante el proceso de preprocesamiento y modelado. Aunque intenté abordar este problema utilizando técnicas como la imputación de valores o la eliminación de filas con datos faltantes, todavía enfrenté dificultades para lograr un flujo de trabajo sin errores.\n",
    "\n",
    "Además, durante el proceso de entrenamiento del modelo, me encontré con errores relacionados con la validación de los datos y la configuración de hiperparámetros. A pesar de seguir las instrucciones proporcionadas y consultar la documentación disponible, aún no logré superar estos obstáculos de manera efectiva.\n",
    "\n",
    "Lamentablemente, debido a estos desafíos técnicos, no pude culminar ciertos puntos de la tarea, incluyendo la evaluación del modelo en el conjunto de prueba y la interpretación de los resultados obtenidos. Reconozco que estos son aspectos críticos del proyecto y que mi incapacidad para completarlos representa una limitación importante en mi trabajo.\n",
    "\n",
    "Sin embargo, estoy comprometido a aprender de esta experiencia y a mejorar mis habilidades en el futuro. Estoy dispuesto a recibir orientación adicional y a invertir el tiempo necesario para abordar los conceptos y técnicas que aún no domino completamente.\n",
    "\n",
    "Agradezco su comprensión y consideración en este asunto, y espero poder trabajar juntos para encontrar una solución que nos permita avanzar en el proyecto de manera efectiva."
   ]
  }
 ],
 "metadata": {
  "kernelspec": {
   "display_name": "Python 3 (ipykernel)",
   "language": "python",
   "name": "python3"
  },
  "language_info": {
   "codemirror_mode": {
    "name": "ipython",
    "version": 3
   },
   "file_extension": ".py",
   "mimetype": "text/x-python",
   "name": "python",
   "nbconvert_exporter": "python",
   "pygments_lexer": "ipython3",
   "version": "3.11.7"
  }
 },
 "nbformat": 4,
 "nbformat_minor": 5
}
